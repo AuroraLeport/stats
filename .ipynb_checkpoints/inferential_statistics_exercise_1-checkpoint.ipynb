{
 "cells": [
  {
   "cell_type": "markdown",
   "metadata": {},
   "source": [
    "## What is the true normal human body temperature? \n",
    "\n",
    "#### Background\n",
    "\n",
    "The mean normal body temperature was held to be 37$^{\\circ}$C or 98.6$^{\\circ}$F for more than 120 years since it was first conceptualized and reported by Carl Wunderlich in a famous 1868 book. In 1992, this value was revised to 36.8$^{\\circ}$C or 98.2$^{\\circ}$F. \n",
    "\n",
    "#### Exercise\n",
    "In this exercise, you will analyze a dataset of human body temperatures and employ the concepts of hypothesis testing, confidence intervals, and statistical significance.\n",
    "\n",
    "Answer the following questions **in this notebook below and submit to your Github account**. \n",
    "\n",
    "1.  Is the distribution of body temperatures normal? \n",
    "    - Remember that this is a condition for the CLT, and hence the statistical tests we are using, to apply. \n",
    "2.  Is the true population mean really 98.6 degrees F?\n",
    "    - Bring out the one sample hypothesis test! In this situation, is it approriate to apply a z-test or a t-test? How will the result be different?\n",
    "3.  At what temperature should we consider someone's temperature to be \"abnormal\"?\n",
    "    - Start by computing the margin of error and confidence interval.\n",
    "4.  Is there a significant difference between males and females in normal temperature?\n",
    "    - Set up and solve for a two sample hypothesis testing.\n",
    "\n",
    "You can include written notes in notebook cells using Markdown: \n",
    "   - In the control panel at the top, choose Cell > Cell Type > Markdown\n",
    "   - Markdown syntax: http://nestacms.com/docs/creating-content/markdown-cheat-sheet\n",
    "\n",
    "#### Resources\n",
    "\n",
    "+ Information and data sources: http://www.amstat.org/publications/jse/datasets/normtemp.txt, http://www.amstat.org/publications/jse/jse_data_archive.htm\n",
    "+ Markdown syntax: http://nestacms.com/docs/creating-content/markdown-cheat-sheet\n",
    "\n",
    "****"
   ]
  },
  {
   "cell_type": "code",
   "execution_count": 1,
   "metadata": {
    "collapsed": true
   },
   "outputs": [],
   "source": [
    "import pandas as pd"
   ]
  },
  {
   "cell_type": "code",
   "execution_count": 2,
   "metadata": {
    "collapsed": false
   },
   "outputs": [],
   "source": [
    "df = pd.read_csv('human_body_data/human_body_temperature.csv')"
   ]
  },
  {
   "cell_type": "code",
   "execution_count": 3,
   "metadata": {
    "collapsed": false
   },
   "outputs": [
    {
     "name": "stdout",
     "output_type": "stream",
     "text": [
      "       temperature  heart_rate\n",
      "count   130.000000  130.000000\n",
      "mean     98.249231   73.761538\n",
      "std       0.733183    7.062077\n",
      "min      96.300000   57.000000\n",
      "25%      97.800000   69.000000\n",
      "50%      98.300000   74.000000\n",
      "75%      98.700000   79.000000\n",
      "max     100.800000   89.000000\n",
      "\n",
      " --------------------\n",
      "   temperature gender  heart_rate\n",
      "0         99.3      F        68.0\n",
      "1         98.4      F        81.0\n",
      "2         97.8      M        73.0\n",
      "3         99.2      F        66.0\n",
      "4         98.0      F        73.0\n"
     ]
    }
   ],
   "source": [
    "print df.describe()\n",
    "print \"\\n --------------------\"\n",
    "print df.head()"
   ]
  },
  {
   "cell_type": "markdown",
   "metadata": {},
   "source": [
    "# 1.  Is the distribution of body temperatures normal? "
   ]
  },
  {
   "cell_type": "code",
   "execution_count": 4,
   "metadata": {
    "collapsed": false
   },
   "outputs": [
    {
     "data": {
      "text/plain": [
       "NormaltestResult(statistic=2.7038014333192031, pvalue=0.2587479863488254)"
      ]
     },
     "execution_count": 4,
     "metadata": {},
     "output_type": "execute_result"
    },
    {
     "data": {
      "image/png": "[encoded data removed]",
      "text/plain": [
       "<matplotlib.figure.Figure at 0x10e19bed0>"
      ]
     },
     "metadata": {},
     "output_type": "display_data"
    }
   ],
   "source": [
    "import matplotlib.pyplot as plt\n",
    "%matplotlib inline\n",
    "df.hist(column='temperature')\n",
    "\n",
    "# Null hypothesis indicates distribution of values is normal. A p < 0.05 would suggest that we can reject the H0.\n",
    "\n",
    "import scipy.stats as stats\n",
    "stats.normaltest(df.temperature)\n",
    "\n",
    "# ANS: Temperature values are slightly skewed to the right, but p > 0.05 indicating values are normally distributed."
   ]
  },
  {
   "cell_type": "markdown",
   "metadata": {},
   "source": [
    "# 2. Is the true population mean really 98.6 degrees F?"
   ]
  },
  {
   "cell_type": "code",
   "execution_count": 5,
   "metadata": {
    "collapsed": false
   },
   "outputs": [
    {
     "name": "stdout",
     "output_type": "stream",
     "text": [
      "reported population mean, p_mean: 98.6\n",
      "sample mean, s_mean: 98.2492307692\n",
      "sample size, n: 130\n",
      "sample standard deviation, s_sd: 0.733183158039\n",
      "estimated standard deviation of sampling mean, p_sd: 0.0643044168379\n",
      "true pop mean: ??\n"
     ]
    }
   ],
   "source": [
    "import numpy as np\n",
    "p_mean = 98.6\n",
    "s_mean = df['temperature'].mean()\n",
    "n = len(df)\n",
    "s_sd = df['temperature'].std()\n",
    "p_sd = s_sd/np.sqrt(n)\n",
    "\n",
    "print 'reported population mean, p_mean:', p_mean\n",
    "print 'sample mean, s_mean:', s_mean\n",
    "print 'sample size, n:', n\n",
    "print 'sample standard deviation, s_sd:', s_sd\n",
    "print 'estimated standard deviation of sampling mean, p_sd:', p_sd\n",
    "print 'true pop mean: ??' "
   ]
  },
  {
   "cell_type": "code",
   "execution_count": 6,
   "metadata": {
    "collapsed": false
   },
   "outputs": [
    {
     "name": "stdout",
     "output_type": "stream",
     "text": [
      "99% confident that pop body temp  lies between 98.4151361647 and 98.0833253738\n"
     ]
    }
   ],
   "source": [
    "# given 98.2 sample mean, what is 99% confidence interval for the pop mean body temp?\n",
    "\n",
    "# using z table, .9901 is equivelent to sd of 2.33\n",
    "# finding approx pop mean w : -z < (s_mean - p_mean) / p_sd) < z\n",
    "\n",
    "a_p_mean1 = ((-2.58 * p_sd) - s_mean) * -1\n",
    "a_p_mean2 = ((2.58 * p_sd) - s_mean)* -1\n",
    "\n",
    "print '99% confident that pop body temp  lies between', a_p_mean1, 'and', a_p_mean2\n",
    "\n",
    "# p value = less than 1% chance that pop mean is 98.6"
   ]
  },
  {
   "cell_type": "code",
   "execution_count": 7,
   "metadata": {
    "collapsed": false
   },
   "outputs": [
    {
     "name": "stdout",
     "output_type": "stream",
     "text": [
      "0.0643044168379\n",
      "z value: 0.765589234016\n",
      "p value: 0.2236\n"
     ]
    }
   ],
   "source": [
    "# given 98.2 sample mean, what is probability of getting sample mean of 98.25?\n",
    "\n",
    "z = (s_mean - 98.2)/p_sd \n",
    "print p_sd\n",
    "print 'z value:', z\n",
    "# 98.25 is 0.76 SD from the mean\n",
    "\n",
    "p_value = (1 - .7764) # .7764 comes from z table\n",
    "print 'p value:', p_value # given the null is true, probability of finding a mean of 98.25 is 22.3% or less"
   ]
  },
  {
   "cell_type": "code",
   "execution_count": 8,
   "metadata": {
    "collapsed": false
   },
   "outputs": [
    {
     "name": "stdout",
     "output_type": "stream",
     "text": [
      "0.0\n"
     ]
    }
   ],
   "source": [
    "x = df['temperature']\n",
    "y = df['temperature']\n",
    "from scipy import stats\n",
    "slope, intercept, r_value, p_value, std_err = stats.linregress(x,y)\n",
    "print p_value"
   ]
  },
  {
   "cell_type": "markdown",
   "metadata": {},
   "source": [
    "# 3. At what temperature should we consider someone's temperature to be \"abnormal\"?"
   ]
  },
  {
   "cell_type": "code",
   "execution_count": 9,
   "metadata": {
    "collapsed": false
   },
   "outputs": [
    {
     "name": "stdout",
     "output_type": "stream",
     "text": [
      "sample sd of the sample mean, s_sd_s_mean:  0.765589234016\n",
      "population sd, p_sd:  1.50055489867\n",
      "ANS: 95% confident any temp ABOVE 100.16 or BELOW 96.24 would be abnormal given a pop mean of 98.2∘F\n"
     ]
    }
   ],
   "source": [
    "# given a pop mean of 98.2∘F what is the 95% confidence interval that a temperature is outside\n",
    "# the expected pop mean?\n",
    "\n",
    "# aka at what temp is a random person's temp (from the population) considered to be abnormal? \n",
    "\n",
    "# Need to figure out what the SD of sampling distribution is and figure out with what confidence we can say \n",
    "# a temperature range would be outside of that distribution\n",
    "\n",
    "p_mean = 98.2\n",
    "s_mean = df['temperature'].mean()\n",
    "n = len(df)\n",
    "s_sd = df['temperature'].std()\n",
    "p_sd = s_sd/np.sqrt(n)\n",
    "\n",
    "\n",
    "s_sd_s_mean = (s_mean - p_mean)/p_sd\n",
    "print \"sample sd of the sample mean, s_sd_s_mean: \", s_sd_s_mean\n",
    "\n",
    "# 95% CI = .95/2 = .475\n",
    "# .475 + .50 (other half of gaussian bell curve) = .975 \n",
    "# .975 is equivalent to a z of 1.96 i.e. at 95% confidence z stat is 1.96\n",
    "\n",
    "z_stat = 1.96\n",
    "p_sd = (z_stat*s_sd_s_mean) # looked this up in Z table\n",
    "\n",
    "print \"population sd, p_sd: \", p_sd\n",
    "\n",
    "# 95% confident that a random sample will be w/ in 1.96 SD of the Pop mean...\n",
    "above = 98.2 + 1.96\n",
    "below = 98.2 - 1.96\n",
    "\n",
    "print 'ANS: 95% confident any temp ABOVE', above, 'or', 'BELOW', below, 'would be abnormal given a pop mean of 98.2∘F'"
   ]
  },
  {
   "cell_type": "markdown",
   "metadata": {},
   "source": [
    "# 4. Is there a significant difference between males and females in normal temperature?"
   ]
  },
  {
   "cell_type": "code",
   "execution_count": 10,
   "metadata": {
    "collapsed": false
   },
   "outputs": [
    {
     "name": "stdout",
     "output_type": "stream",
     "text": [
      "   temperature gender  heart_rate\n",
      "0         99.3      F        68.0\n",
      "1         98.4      F        81.0\n",
      "2         97.8      M        73.0\n",
      "3         99.2      F        66.0\n",
      "4         98.0      F        73.0\n"
     ]
    }
   ],
   "source": [
    "print df.head()"
   ]
  },
  {
   "cell_type": "code",
   "execution_count": 11,
   "metadata": {
    "collapsed": false
   },
   "outputs": [
    {
     "data": {
      "text/html": [
       "<div>\n",
       "<table border=\"1\" class=\"dataframe\">\n",
       "  <thead>\n",
       "    <tr style=\"text-align: right;\">\n",
       "      <th></th>\n",
       "      <th>temperature</th>\n",
       "      <th>heart_rate</th>\n",
       "    </tr>\n",
       "    <tr>\n",
       "      <th>gender</th>\n",
       "      <th></th>\n",
       "      <th></th>\n",
       "    </tr>\n",
       "  </thead>\n",
       "  <tbody>\n",
       "    <tr>\n",
       "      <th>F</th>\n",
       "      <td>98.393846</td>\n",
       "      <td>74.153846</td>\n",
       "    </tr>\n",
       "    <tr>\n",
       "      <th>M</th>\n",
       "      <td>98.104615</td>\n",
       "      <td>73.369231</td>\n",
       "    </tr>\n",
       "  </tbody>\n",
       "</table>\n",
       "</div>"
      ],
      "text/plain": [
       "        temperature  heart_rate\n",
       "gender                         \n",
       "F         98.393846   74.153846\n",
       "M         98.104615   73.369231"
      ]
     },
     "execution_count": 11,
     "metadata": {},
     "output_type": "execute_result"
    }
   ],
   "source": [
    "df.groupby('gender').mean()"
   ]
  },
  {
   "cell_type": "code",
   "execution_count": 12,
   "metadata": {
    "collapsed": false
   },
   "outputs": [
    {
     "data": {
      "text/html": [
       "<div>\n",
       "<table border=\"1\" class=\"dataframe\">\n",
       "  <thead>\n",
       "    <tr style=\"text-align: right;\">\n",
       "      <th></th>\n",
       "      <th>temperature</th>\n",
       "      <th>heart_rate</th>\n",
       "    </tr>\n",
       "    <tr>\n",
       "      <th>gender</th>\n",
       "      <th></th>\n",
       "      <th></th>\n",
       "    </tr>\n",
       "  </thead>\n",
       "  <tbody>\n",
       "    <tr>\n",
       "      <th>F</th>\n",
       "      <td>0.743488</td>\n",
       "      <td>8.105227</td>\n",
       "    </tr>\n",
       "    <tr>\n",
       "      <th>M</th>\n",
       "      <td>0.698756</td>\n",
       "      <td>5.875184</td>\n",
       "    </tr>\n",
       "  </tbody>\n",
       "</table>\n",
       "</div>"
      ],
      "text/plain": [
       "        temperature  heart_rate\n",
       "gender                         \n",
       "F          0.743488    8.105227\n",
       "M          0.698756    5.875184"
      ]
     },
     "execution_count": 12,
     "metadata": {},
     "output_type": "execute_result"
    }
   ],
   "source": [
    "df.groupby('gender').std()"
   ]
  },
  {
   "cell_type": "code",
   "execution_count": 13,
   "metadata": {
    "collapsed": false,
    "scrolled": true
   },
   "outputs": [
    {
     "name": "stdout",
     "output_type": "stream",
     "text": [
      "Ttest_indResult(statistic=2.2854345381656103, pvalue=0.023931883122395609)\n",
      "ANS: p > 0.05, indicating female and male populations have different average body temps.\n"
     ]
    }
   ],
   "source": [
    "from scipy.stats import ttest_ind\n",
    "# null hypothesis that 2 independent samples have identical average (expected) values\n",
    "# if p < 0.05, reject the null\n",
    "\n",
    "cat1 = df.temperature[(df['gender'] == 'F')]\n",
    "cat2 = df.temperature[(df['gender'] == 'M')]\n",
    "\n",
    "print ttest_ind(cat1, cat2)\n",
    "\n",
    "print 'ANS: p > 0.05, indicating female and male populations have different average body temps.'"
   ]
  },
  {
   "cell_type": "code",
   "execution_count": 31,
   "metadata": {
    "collapsed": false
   },
   "outputs": [
    {
     "name": "stdout",
     "output_type": "stream",
     "text": [
      "mean difference: 0.289230769231\n",
      "p value: 0.011\n",
      "ANS: given H0: 0, probability of getting a mean diff of 0.289230769231 is 1.1 % We can therefore reject the H0\n"
     ]
    }
   ],
   "source": [
    "f_m = f_s_mean - m_s_mean\n",
    "f_s_mean = df.temperature[(df['gender'] == 'F')].mean()\n",
    "m_s_mean = df.temperature[(df['gender'] == 'M')].mean()\n",
    "f_s_sd = df.temperature[(df['gender'] == 'F')].std()\n",
    "m_s_sd = df.temperature[(df['gender'] == 'M')].std()\n",
    "m_n = df.temperature[(df['gender'] == 'M')].count()\n",
    "f_n = df.temperature[(df['gender'] == 'F')].count()\n",
    "\n",
    "f_p_sd = (f_s_sd**2/f_n)\n",
    "m_p_sd = (m_s_sd**2/m_n)\n",
    "pop_sd_f_m = np.sqrt(f_p_sd + m_p_sd)\n",
    "\n",
    "# H0: no difference between F and M mean body temp, H1: difference between F and M mean temp.\n",
    "print 'mean difference:', f_m\n",
    "z = (f_m - 0)/pop_sd_f_m # z = 2.29 which translates into critical value of .9890\n",
    "p = 1 - .9890\n",
    "print 'p value:', p\n",
    "\n",
    "print 'ANS: given H0: 0, probability of getting a mean diff of', f_m, 'is', p*100, '%', 'We can therefore reject the H0'"
   ]
  },
  {
   "cell_type": "code",
   "execution_count": 33,
   "metadata": {
    "collapsed": false
   },
   "outputs": [
    {
     "name": "stdout",
     "output_type": "stream",
     "text": [
      "(98.213101595213345, 98.574590712478937)\n"
     ]
    }
   ],
   "source": [
    "from scipy import stats\n",
    "import numpy as np\n",
    "f = df.temperature[(df['gender'] == 'F')]\n",
    "fmean, fsigma = np.mean(f), f_s_sd/ np.sqrt(len(f))\n",
    "conf_int = stats.norm.interval(0.95, loc=fmean, scale=fsigma)\n",
    "print conf_int"
   ]
  },
  {
   "cell_type": "code",
   "execution_count": 34,
   "metadata": {
    "collapsed": false
   },
   "outputs": [
    {
     "name": "stdout",
     "output_type": "stream",
     "text": [
      "(97.934745334449957, 98.274485434780786)\n"
     ]
    }
   ],
   "source": [
    "from scipy import stats\n",
    "import numpy as np\n",
    "m = df.temperature[(df['gender'] == 'M')]\n",
    "m_mean, m_sigma = np.mean(m), m_s_sd/ np.sqrt(len(m))\n",
    "conf_int = stats.norm.interval(0.95, loc=m_mean, scale=m_sigma)\n",
    "print conf_int"
   ]
  },
  {
   "cell_type": "code",
   "execution_count": 35,
   "metadata": {
    "collapsed": false
   },
   "outputs": [
    {
     "name": "stdout",
     "output_type": "stream",
     "text": [
      "98.2492307692\n",
      "0.733183158039\n",
      "(98.123682111456617, 98.374779427004881)\n"
     ]
    }
   ],
   "source": [
    "from scipy import stats\n",
    "import numpy as np\n",
    "a = df.temperature\n",
    "mean, sigma = np.mean(a), np.std(a)/ np.sqrt(len(a))\n",
    "conf_int = stats.norm.interval(0.95, loc=mean, scale=sigma)\n",
    "print a.mean()\n",
    "print a.std()\n",
    "print conf_int"
   ]
  },
  {
   "cell_type": "code",
   "execution_count": 22,
   "metadata": {
    "collapsed": false
   },
   "outputs": [
    {
     "data": {
      "text/plain": [
       "3.1363704401458468"
      ]
     },
     "execution_count": 22,
     "metadata": {},
     "output_type": "execute_result"
    }
   ],
   "source": [
    "f_m/(f_s_sd/np.sqrt(f_n))"
   ]
  },
  {
   "cell_type": "code",
   "execution_count": null,
   "metadata": {
    "collapsed": true
   },
   "outputs": [],
   "source": []
  }
 ],
 "metadata": {
  "kernelspec": {
   "display_name": "Python 2",
   "language": "python",
   "name": "python2"
  },
  "language_info": {
   "codemirror_mode": {
    "name": "ipython",
    "version": 2
   },
   "file_extension": ".py",
   "mimetype": "text/x-python",
   "name": "python",
   "nbconvert_exporter": "python",
   "pygments_lexer": "ipython2",
   "version": "2.7.11"
  }
 },
 "nbformat": 4,
 "nbformat_minor": 0
}
